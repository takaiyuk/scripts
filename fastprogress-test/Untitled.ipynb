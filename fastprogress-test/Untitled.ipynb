{
 "cells": [
  {
   "cell_type": "code",
   "execution_count": 1,
   "metadata": {},
   "outputs": [
    {
     "name": "stdout",
     "output_type": "stream",
     "text": [
      "Using TensorFlow backend.\n",
      "2019-03-29 20:48:57.872255: I tensorflow/core/platform/cpu_feature_guard.cc:141] Your CPU supports instructions that this TensorFlow binary was not compiled to use: AVX2 FMA\n",
      "EPOCH: 01, Training cost:    0.45633, Validation cost:    0.25553\n",
      "EPOCH: 02, Training cost:    0.21853, Validation cost:    0.19071\n",
      "EPOCH: 03, Training cost:    0.16616, Validation cost:    0.16419\n",
      "EPOCH: 04, Training cost:    0.14049, Validation cost:    0.14273\n",
      "EPOCH: 05, Training cost:    0.12066, Validation cost:    0.13515\n",
      "EPOCH: 06, Training cost:    0.10547, Validation cost:    0.12264\n",
      "EPOCH: 07, Training cost:    0.09498, Validation cost:    0.11546\n",
      "EPOCH: 08, Training cost:    0.08215, Validation cost:    0.10997\n",
      "EPOCH: 09, Training cost:    0.07280, Validation cost:    0.10653\n",
      "EPOCH: 10, Training cost:    0.06529, Validation cost:    0.10137\n",
      "Total time: 00:06\n",
      "0.9715\n"
     ]
    }
   ],
   "source": [
    "! python main.py"
   ]
  },
  {
   "cell_type": "code",
   "execution_count": null,
   "metadata": {},
   "outputs": [],
   "source": []
  }
 ],
 "metadata": {
  "kernelspec": {
   "display_name": "Python 3",
   "language": "python",
   "name": "python3"
  },
  "language_info": {
   "codemirror_mode": {
    "name": "ipython",
    "version": 3
   },
   "file_extension": ".py",
   "mimetype": "text/x-python",
   "name": "python",
   "nbconvert_exporter": "python",
   "pygments_lexer": "ipython3",
   "version": "3.6.2"
  }
 },
 "nbformat": 4,
 "nbformat_minor": 2
}
